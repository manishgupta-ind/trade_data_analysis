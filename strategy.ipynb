{
 "cells": [
  {
   "cell_type": "code",
   "execution_count": 1,
   "id": "1deeb6b1",
   "metadata": {},
   "outputs": [],
   "source": [
    "import pandas as pd\n",
    "import time "
   ]
  },
  {
   "cell_type": "code",
   "execution_count": 2,
   "id": "825e8af0",
   "metadata": {},
   "outputs": [],
   "source": [
    "data = pd.read_excel(\"Sheet_2.0-1.0_task.xls\")"
   ]
  },
  {
   "cell_type": "code",
   "execution_count": 3,
   "id": "1343ae10",
   "metadata": {},
   "outputs": [
    {
     "data": {
      "text/plain": [
       "1628664213.6866813"
      ]
     },
     "execution_count": 3,
     "metadata": {},
     "output_type": "execute_result"
    }
   ],
   "source": [
    "t1 = time.time()\n",
    "t1"
   ]
  },
  {
   "cell_type": "code",
   "execution_count": 4,
   "id": "b4185b14",
   "metadata": {},
   "outputs": [
    {
     "data": {
      "text/html": [
       "<div>\n",
       "<style scoped>\n",
       "    .dataframe tbody tr th:only-of-type {\n",
       "        vertical-align: middle;\n",
       "    }\n",
       "\n",
       "    .dataframe tbody tr th {\n",
       "        vertical-align: top;\n",
       "    }\n",
       "\n",
       "    .dataframe thead th {\n",
       "        text-align: right;\n",
       "    }\n",
       "</style>\n",
       "<table border=\"1\" class=\"dataframe\">\n",
       "  <thead>\n",
       "    <tr style=\"text-align: right;\">\n",
       "      <th></th>\n",
       "      <th>entry price</th>\n",
       "      <th>exit price</th>\n",
       "      <th>p&amp;l</th>\n",
       "      <th>atr_perc</th>\n",
       "      <th>roc</th>\n",
       "      <th>rsi</th>\n",
       "    </tr>\n",
       "  </thead>\n",
       "  <tbody>\n",
       "    <tr>\n",
       "      <th>0</th>\n",
       "      <td>540.00</td>\n",
       "      <td>542.05</td>\n",
       "      <td>1797.85</td>\n",
       "      <td>0.212054</td>\n",
       "      <td>68.956580</td>\n",
       "      <td>49.17</td>\n",
       "    </tr>\n",
       "    <tr>\n",
       "      <th>1</th>\n",
       "      <td>534.15</td>\n",
       "      <td>533.45</td>\n",
       "      <td>-388.50</td>\n",
       "      <td>0.339687</td>\n",
       "      <td>982.763663</td>\n",
       "      <td>34.60</td>\n",
       "    </tr>\n",
       "    <tr>\n",
       "      <th>2</th>\n",
       "      <td>536.10</td>\n",
       "      <td>534.40</td>\n",
       "      <td>-1162.80</td>\n",
       "      <td>0.272566</td>\n",
       "      <td>-11.526762</td>\n",
       "      <td>60.07</td>\n",
       "    </tr>\n",
       "    <tr>\n",
       "      <th>3</th>\n",
       "      <td>538.10</td>\n",
       "      <td>540.50</td>\n",
       "      <td>1790.40</td>\n",
       "      <td>0.249302</td>\n",
       "      <td>156.146465</td>\n",
       "      <td>63.28</td>\n",
       "    </tr>\n",
       "    <tr>\n",
       "      <th>4</th>\n",
       "      <td>541.85</td>\n",
       "      <td>540.75</td>\n",
       "      <td>-1122.00</td>\n",
       "      <td>0.180979</td>\n",
       "      <td>-10.250543</td>\n",
       "      <td>71.59</td>\n",
       "    </tr>\n",
       "    <tr>\n",
       "      <th>...</th>\n",
       "      <td>...</td>\n",
       "      <td>...</td>\n",
       "      <td>...</td>\n",
       "      <td>...</td>\n",
       "      <td>...</td>\n",
       "      <td>...</td>\n",
       "    </tr>\n",
       "    <tr>\n",
       "      <th>565</th>\n",
       "      <td>2089.85</td>\n",
       "      <td>2100.10</td>\n",
       "      <td>1834.75</td>\n",
       "      <td>0.267025</td>\n",
       "      <td>413.767896</td>\n",
       "      <td>59.21</td>\n",
       "    </tr>\n",
       "    <tr>\n",
       "      <th>566</th>\n",
       "      <td>2102.30</td>\n",
       "      <td>2096.80</td>\n",
       "      <td>-1149.50</td>\n",
       "      <td>0.227035</td>\n",
       "      <td>189.051591</td>\n",
       "      <td>62.61</td>\n",
       "    </tr>\n",
       "    <tr>\n",
       "      <th>567</th>\n",
       "      <td>2092.30</td>\n",
       "      <td>2087.65</td>\n",
       "      <td>-1157.85</td>\n",
       "      <td>0.191770</td>\n",
       "      <td>-34.201782</td>\n",
       "      <td>47.73</td>\n",
       "    </tr>\n",
       "    <tr>\n",
       "      <th>568</th>\n",
       "      <td>2090.60</td>\n",
       "      <td>2086.35</td>\n",
       "      <td>-1156.00</td>\n",
       "      <td>0.175644</td>\n",
       "      <td>23.375503</td>\n",
       "      <td>57.14</td>\n",
       "    </tr>\n",
       "    <tr>\n",
       "      <th>569</th>\n",
       "      <td>2109.85</td>\n",
       "      <td>2103.60</td>\n",
       "      <td>-1143.75</td>\n",
       "      <td>0.257985</td>\n",
       "      <td>502.741756</td>\n",
       "      <td>71.79</td>\n",
       "    </tr>\n",
       "  </tbody>\n",
       "</table>\n",
       "<p>570 rows × 6 columns</p>\n",
       "</div>"
      ],
      "text/plain": [
       "     entry price  exit price      p&l  atr_perc         roc    rsi\n",
       "0         540.00      542.05  1797.85  0.212054   68.956580  49.17\n",
       "1         534.15      533.45  -388.50  0.339687  982.763663  34.60\n",
       "2         536.10      534.40 -1162.80  0.272566  -11.526762  60.07\n",
       "3         538.10      540.50  1790.40  0.249302  156.146465  63.28\n",
       "4         541.85      540.75 -1122.00  0.180979  -10.250543  71.59\n",
       "..           ...         ...      ...       ...         ...    ...\n",
       "565      2089.85     2100.10  1834.75  0.267025  413.767896  59.21\n",
       "566      2102.30     2096.80 -1149.50  0.227035  189.051591  62.61\n",
       "567      2092.30     2087.65 -1157.85  0.191770  -34.201782  47.73\n",
       "568      2090.60     2086.35 -1156.00  0.175644   23.375503  57.14\n",
       "569      2109.85     2103.60 -1143.75  0.257985  502.741756  71.79\n",
       "\n",
       "[570 rows x 6 columns]"
      ]
     },
     "execution_count": 4,
     "metadata": {},
     "output_type": "execute_result"
    }
   ],
   "source": [
    "data"
   ]
  },
  {
   "cell_type": "code",
   "execution_count": 5,
   "id": "9b9d69ce",
   "metadata": {},
   "outputs": [
    {
     "name": "stdout",
     "output_type": "stream",
     "text": [
      "<class 'pandas.core.frame.DataFrame'>\n",
      "RangeIndex: 570 entries, 0 to 569\n",
      "Data columns (total 6 columns):\n",
      " #   Column       Non-Null Count  Dtype  \n",
      "---  ------       --------------  -----  \n",
      " 0   entry price  570 non-null    float64\n",
      " 1   exit price   570 non-null    float64\n",
      " 2   p&l          570 non-null    float64\n",
      " 3   atr_perc     570 non-null    float64\n",
      " 4   roc          570 non-null    float64\n",
      " 5   rsi          570 non-null    float64\n",
      "dtypes: float64(6)\n",
      "memory usage: 26.8 KB\n"
     ]
    }
   ],
   "source": [
    "data.info()"
   ]
  },
  {
   "cell_type": "code",
   "execution_count": 6,
   "id": "061d2261",
   "metadata": {},
   "outputs": [
    {
     "data": {
      "text/html": [
       "<div>\n",
       "<style scoped>\n",
       "    .dataframe tbody tr th:only-of-type {\n",
       "        vertical-align: middle;\n",
       "    }\n",
       "\n",
       "    .dataframe tbody tr th {\n",
       "        vertical-align: top;\n",
       "    }\n",
       "\n",
       "    .dataframe thead th {\n",
       "        text-align: right;\n",
       "    }\n",
       "</style>\n",
       "<table border=\"1\" class=\"dataframe\">\n",
       "  <thead>\n",
       "    <tr style=\"text-align: right;\">\n",
       "      <th></th>\n",
       "      <th>entry price</th>\n",
       "      <th>exit price</th>\n",
       "      <th>p&amp;l</th>\n",
       "      <th>atr_perc</th>\n",
       "      <th>roc</th>\n",
       "      <th>rsi</th>\n",
       "    </tr>\n",
       "  </thead>\n",
       "  <tbody>\n",
       "    <tr>\n",
       "      <th>count</th>\n",
       "      <td>570.000000</td>\n",
       "      <td>570.000000</td>\n",
       "      <td>570.000000</td>\n",
       "      <td>570.000000</td>\n",
       "      <td>570.000000</td>\n",
       "      <td>570.000000</td>\n",
       "    </tr>\n",
       "    <tr>\n",
       "      <th>mean</th>\n",
       "      <td>1305.750000</td>\n",
       "      <td>1305.505175</td>\n",
       "      <td>-25.398158</td>\n",
       "      <td>0.446337</td>\n",
       "      <td>794.089290</td>\n",
       "      <td>61.617860</td>\n",
       "    </tr>\n",
       "    <tr>\n",
       "      <th>std</th>\n",
       "      <td>484.829838</td>\n",
       "      <td>484.217076</td>\n",
       "      <td>1367.562510</td>\n",
       "      <td>0.398000</td>\n",
       "      <td>14603.851506</td>\n",
       "      <td>10.750483</td>\n",
       "    </tr>\n",
       "    <tr>\n",
       "      <th>min</th>\n",
       "      <td>507.300000</td>\n",
       "      <td>505.900000</td>\n",
       "      <td>-1170.550000</td>\n",
       "      <td>0.150859</td>\n",
       "      <td>-94.990008</td>\n",
       "      <td>28.400000</td>\n",
       "    </tr>\n",
       "    <tr>\n",
       "      <th>25%</th>\n",
       "      <td>930.125000</td>\n",
       "      <td>928.812500</td>\n",
       "      <td>-1146.600000</td>\n",
       "      <td>0.312752</td>\n",
       "      <td>-20.543939</td>\n",
       "      <td>54.312500</td>\n",
       "    </tr>\n",
       "    <tr>\n",
       "      <th>50%</th>\n",
       "      <td>1226.650000</td>\n",
       "      <td>1226.750000</td>\n",
       "      <td>-1137.750000</td>\n",
       "      <td>0.380411</td>\n",
       "      <td>68.796195</td>\n",
       "      <td>61.535000</td>\n",
       "    </tr>\n",
       "    <tr>\n",
       "      <th>75%</th>\n",
       "      <td>1621.300000</td>\n",
       "      <td>1613.437500</td>\n",
       "      <td>1828.287500</td>\n",
       "      <td>0.470153</td>\n",
       "      <td>260.863125</td>\n",
       "      <td>68.915000</td>\n",
       "    </tr>\n",
       "    <tr>\n",
       "      <th>max</th>\n",
       "      <td>2359.050000</td>\n",
       "      <td>2343.400000</td>\n",
       "      <td>1848.000000</td>\n",
       "      <td>8.044882</td>\n",
       "      <td>348756.541000</td>\n",
       "      <td>92.400000</td>\n",
       "    </tr>\n",
       "  </tbody>\n",
       "</table>\n",
       "</div>"
      ],
      "text/plain": [
       "       entry price   exit price          p&l    atr_perc            roc  \\\n",
       "count   570.000000   570.000000   570.000000  570.000000     570.000000   \n",
       "mean   1305.750000  1305.505175   -25.398158    0.446337     794.089290   \n",
       "std     484.829838   484.217076  1367.562510    0.398000   14603.851506   \n",
       "min     507.300000   505.900000 -1170.550000    0.150859     -94.990008   \n",
       "25%     930.125000   928.812500 -1146.600000    0.312752     -20.543939   \n",
       "50%    1226.650000  1226.750000 -1137.750000    0.380411      68.796195   \n",
       "75%    1621.300000  1613.437500  1828.287500    0.470153     260.863125   \n",
       "max    2359.050000  2343.400000  1848.000000    8.044882  348756.541000   \n",
       "\n",
       "              rsi  \n",
       "count  570.000000  \n",
       "mean    61.617860  \n",
       "std     10.750483  \n",
       "min     28.400000  \n",
       "25%     54.312500  \n",
       "50%     61.535000  \n",
       "75%     68.915000  \n",
       "max     92.400000  "
      ]
     },
     "execution_count": 6,
     "metadata": {},
     "output_type": "execute_result"
    }
   ],
   "source": [
    "data.describe()"
   ]
  },
  {
   "cell_type": "code",
   "execution_count": 7,
   "id": "e003283b",
   "metadata": {},
   "outputs": [
    {
     "data": {
      "image/png": "[encoded data removed]",
      "text/plain": [
       "<Figure size 432x288 with 3 Axes>"
      ]
     },
     "metadata": {
      "needs_background": "light"
     },
     "output_type": "display_data"
    }
   ],
   "source": [
    "import matplotlib.pyplot as plt\n",
    "\n",
    "fig, axs = plt.subplots(1,3, sharex=False, sharey=True)\n",
    "fig.suptitle('p&l vs atr_perc, roc, rsi')\n",
    "axs[0].scatter(data['atr_perc'], data['p&l'])\n",
    "axs[1].scatter(data['roc'], data['p&l'])\n",
    "axs[2].scatter(data['rsi'], data['p&l']);"
   ]
  },
  {
   "cell_type": "code",
   "execution_count": 8,
   "id": "d7a3bdfd",
   "metadata": {},
   "outputs": [
    {
     "data": {
      "text/html": [
       "<div>\n",
       "<style scoped>\n",
       "    .dataframe tbody tr th:only-of-type {\n",
       "        vertical-align: middle;\n",
       "    }\n",
       "\n",
       "    .dataframe tbody tr th {\n",
       "        vertical-align: top;\n",
       "    }\n",
       "\n",
       "    .dataframe thead th {\n",
       "        text-align: right;\n",
       "    }\n",
       "</style>\n",
       "<table border=\"1\" class=\"dataframe\">\n",
       "  <thead>\n",
       "    <tr style=\"text-align: right;\">\n",
       "      <th></th>\n",
       "      <th>p&amp;l</th>\n",
       "      <th>atr_perc</th>\n",
       "      <th>roc</th>\n",
       "      <th>rsi</th>\n",
       "    </tr>\n",
       "  </thead>\n",
       "  <tbody>\n",
       "    <tr>\n",
       "      <th>p&amp;l</th>\n",
       "      <td>1.000000</td>\n",
       "      <td>0.014292</td>\n",
       "      <td>0.056807</td>\n",
       "      <td>0.096374</td>\n",
       "    </tr>\n",
       "    <tr>\n",
       "      <th>atr_perc</th>\n",
       "      <td>0.014292</td>\n",
       "      <td>1.000000</td>\n",
       "      <td>0.035240</td>\n",
       "      <td>0.009512</td>\n",
       "    </tr>\n",
       "    <tr>\n",
       "      <th>roc</th>\n",
       "      <td>0.056807</td>\n",
       "      <td>0.035240</td>\n",
       "      <td>1.000000</td>\n",
       "      <td>-0.041520</td>\n",
       "    </tr>\n",
       "    <tr>\n",
       "      <th>rsi</th>\n",
       "      <td>0.096374</td>\n",
       "      <td>0.009512</td>\n",
       "      <td>-0.041520</td>\n",
       "      <td>1.000000</td>\n",
       "    </tr>\n",
       "  </tbody>\n",
       "</table>\n",
       "</div>"
      ],
      "text/plain": [
       "               p&l  atr_perc       roc       rsi\n",
       "p&l       1.000000  0.014292  0.056807  0.096374\n",
       "atr_perc  0.014292  1.000000  0.035240  0.009512\n",
       "roc       0.056807  0.035240  1.000000 -0.041520\n",
       "rsi       0.096374  0.009512 -0.041520  1.000000"
      ]
     },
     "execution_count": 8,
     "metadata": {},
     "output_type": "execute_result"
    }
   ],
   "source": [
    "data.drop(['entry price','exit price'], axis=1).corr()"
   ]
  },
  {
   "cell_type": "code",
   "execution_count": 9,
   "id": "f3b7699f",
   "metadata": {},
   "outputs": [],
   "source": [
    "data_sort_atr = data.sort_values(\"atr_perc\")"
   ]
  },
  {
   "cell_type": "code",
   "execution_count": 10,
   "id": "24924d32",
   "metadata": {},
   "outputs": [],
   "source": [
    "data_sort_roc = data.sort_values(\"roc\")"
   ]
  },
  {
   "cell_type": "code",
   "execution_count": 11,
   "id": "588e56b0",
   "metadata": {},
   "outputs": [],
   "source": [
    "data_sort_rsi = data.sort_values(\"rsi\")"
   ]
  },
  {
   "cell_type": "code",
   "execution_count": 12,
   "id": "418d1fbc",
   "metadata": {},
   "outputs": [],
   "source": [
    "import sys\n",
    " \n",
    "# Function to print continuous sublist with the largest sum in a given list\n",
    "def largest_sublist(A):\n",
    " \n",
    "    # base case\n",
    "    if len(A) <= 1:\n",
    "        return A\n",
    " \n",
    "    # stores the maximum sum sublist found so far\n",
    "    maxSoFar = -sys.maxsize\n",
    " \n",
    "    # stores the maximum sum of sublist ending at the current position\n",
    "    maxEndingHere = 0\n",
    " \n",
    "    # stores endpoints of maximum sum sublist found so far\n",
    "    start = 0\n",
    "    end = 0\n",
    " \n",
    "    # stores starting index of a positive-sum sequence\n",
    "    beg = 0\n",
    " \n",
    "    # traverse the given list\n",
    "    for i in range(len(A)):\n",
    " \n",
    "        # update the maximum sum of sublist \"ending\" at index `i`\n",
    "        maxEndingHere = maxEndingHere + A[i]\n",
    " \n",
    "        # if the maximum sum becomes less than the current element,\n",
    "        # start from the current element\n",
    "        if maxEndingHere < A[i]:\n",
    "            maxEndingHere = A[i]\n",
    "            beg = i\n",
    " \n",
    "        # update result if the current sublist sum is found to be greater\n",
    "        if maxSoFar < maxEndingHere:\n",
    "            maxSoFar = maxEndingHere\n",
    "            start = beg\n",
    "            end = i\n",
    " \n",
    "    #print(\"The continuous sublist with the largest sum is\", A[start: end + 1])\n",
    "    print(\"start_postion {}. end_position {}, max_sum = {}\".format(start, end, sum(A[start: end + 1])))"
   ]
  },
  {
   "cell_type": "code",
   "execution_count": 13,
   "id": "b1b622fa",
   "metadata": {},
   "outputs": [
    {
     "name": "stdout",
     "output_type": "stream",
     "text": [
      "start_postion 279. end_position 366, max_sum = 33171.20000000001\n"
     ]
    }
   ],
   "source": [
    "largest_sublist(list(data_sort_atr['p&l']))"
   ]
  },
  {
   "cell_type": "code",
   "execution_count": 14,
   "id": "9f30edb2",
   "metadata": {},
   "outputs": [
    {
     "name": "stdout",
     "output_type": "stream",
     "text": [
      "start_postion 95. end_position 254, max_sum = 25561.899999999994\n"
     ]
    }
   ],
   "source": [
    "largest_sublist(list(data_sort_roc['p&l']))"
   ]
  },
  {
   "cell_type": "code",
   "execution_count": 15,
   "id": "230b33c7",
   "metadata": {},
   "outputs": [
    {
     "name": "stdout",
     "output_type": "stream",
     "text": [
      "start_postion 210. end_position 568, max_sum = 33821.7\n"
     ]
    }
   ],
   "source": [
    "largest_sublist(list(data_sort_rsi['p&l']))"
   ]
  },
  {
   "cell_type": "code",
   "execution_count": 16,
   "id": "5e41cea8",
   "metadata": {},
   "outputs": [
    {
     "name": "stdout",
     "output_type": "stream",
     "text": [
      "0.377552772 0.425851233\n"
     ]
    }
   ],
   "source": [
    "atr_min = data_sort_atr.reset_index()[\"atr_perc\"][279]\n",
    "atr_max = data_sort_atr.reset_index()[\"atr_perc\"][366]\n",
    "print(atr_min, atr_max)"
   ]
  },
  {
   "cell_type": "markdown",
   "id": "74ecc570",
   "metadata": {},
   "source": [
    "best range of atr_perc for maximum p&l is: (0.377552772, 0.425851233)\n",
    "and corresponding p&l is: 33171.20000000001"
   ]
  },
  {
   "cell_type": "code",
   "execution_count": 17,
   "id": "760eb1d2",
   "metadata": {},
   "outputs": [
    {
     "name": "stdout",
     "output_type": "stream",
     "text": [
      "-40.77695853 48.20817165\n"
     ]
    }
   ],
   "source": [
    "roc_min = data_sort_roc.reset_index()[\"roc\"][95]\n",
    "roc_max = data_sort_roc.reset_index()[\"roc\"][254]\n",
    "print(roc_min, roc_max)"
   ]
  },
  {
   "cell_type": "markdown",
   "id": "dcd7b35a",
   "metadata": {},
   "source": [
    "best range of roc for maximum p&l is: (-40.77695853, 48.20817165)\n",
    "and corresponding p&l is: 25561.899999999994"
   ]
  },
  {
   "cell_type": "code",
   "execution_count": 18,
   "id": "926404f7",
   "metadata": {},
   "outputs": [
    {
     "name": "stdout",
     "output_type": "stream",
     "text": [
      "58.02 89.72\n"
     ]
    }
   ],
   "source": [
    "rsi_min = data_sort_rsi.reset_index()[\"rsi\"][210]\n",
    "rsi_max = data_sort_rsi.reset_index()[\"rsi\"][568]\n",
    "print(rsi_min, rsi_max)"
   ]
  },
  {
   "cell_type": "markdown",
   "id": "fed0925e",
   "metadata": {},
   "source": [
    "best range of rsi for maximum p&l is: (58.02, 89.72) and corresponding p&l is: 33821.7"
   ]
  },
  {
   "cell_type": "code",
   "execution_count": null,
   "id": "9ad1018c",
   "metadata": {},
   "outputs": [],
   "source": []
  },
  {
   "cell_type": "code",
   "execution_count": null,
   "id": "5b903902",
   "metadata": {},
   "outputs": [],
   "source": []
  },
  {
   "cell_type": "code",
   "execution_count": 19,
   "id": "6d4e7b16",
   "metadata": {},
   "outputs": [
    {
     "data": {
      "text/plain": [
       "33821.7"
      ]
     },
     "execution_count": 19,
     "metadata": {},
     "output_type": "execute_result"
    }
   ],
   "source": [
    "#data_sort_rsi.head(10)\n",
    "data_sort_rsi.iloc[210:569]['p&l'].sum()"
   ]
  },
  {
   "cell_type": "code",
   "execution_count": 20,
   "id": "37dbe185",
   "metadata": {},
   "outputs": [
    {
     "data": {
      "text/html": [
       "<div>\n",
       "<style scoped>\n",
       "    .dataframe tbody tr th:only-of-type {\n",
       "        vertical-align: middle;\n",
       "    }\n",
       "\n",
       "    .dataframe tbody tr th {\n",
       "        vertical-align: top;\n",
       "    }\n",
       "\n",
       "    .dataframe thead th {\n",
       "        text-align: right;\n",
       "    }\n",
       "</style>\n",
       "<table border=\"1\" class=\"dataframe\">\n",
       "  <thead>\n",
       "    <tr style=\"text-align: right;\">\n",
       "      <th></th>\n",
       "      <th>entry price</th>\n",
       "      <th>exit price</th>\n",
       "      <th>p&amp;l</th>\n",
       "      <th>atr_perc</th>\n",
       "      <th>roc</th>\n",
       "      <th>rsi</th>\n",
       "    </tr>\n",
       "  </thead>\n",
       "  <tbody>\n",
       "    <tr>\n",
       "      <th>67</th>\n",
       "      <td>716.35</td>\n",
       "      <td>718.30</td>\n",
       "      <td>1803.75</td>\n",
       "      <td>0.150859</td>\n",
       "      <td>-31.080220</td>\n",
       "      <td>60.21</td>\n",
       "    </tr>\n",
       "    <tr>\n",
       "      <th>123</th>\n",
       "      <td>915.55</td>\n",
       "      <td>913.85</td>\n",
       "      <td>-1140.70</td>\n",
       "      <td>0.162815</td>\n",
       "      <td>250.086714</td>\n",
       "      <td>65.60</td>\n",
       "    </tr>\n",
       "    <tr>\n",
       "      <th>61</th>\n",
       "      <td>713.05</td>\n",
       "      <td>711.60</td>\n",
       "      <td>-1132.45</td>\n",
       "      <td>0.179611</td>\n",
       "      <td>-40.979527</td>\n",
       "      <td>73.79</td>\n",
       "    </tr>\n",
       "    <tr>\n",
       "      <th>4</th>\n",
       "      <td>541.85</td>\n",
       "      <td>540.75</td>\n",
       "      <td>-1122.00</td>\n",
       "      <td>0.180979</td>\n",
       "      <td>-10.250543</td>\n",
       "      <td>71.59</td>\n",
       "    </tr>\n",
       "    <tr>\n",
       "      <th>66</th>\n",
       "      <td>716.80</td>\n",
       "      <td>715.15</td>\n",
       "      <td>-1153.35</td>\n",
       "      <td>0.199595</td>\n",
       "      <td>-88.295404</td>\n",
       "      <td>63.56</td>\n",
       "    </tr>\n",
       "    <tr>\n",
       "      <th>...</th>\n",
       "      <td>...</td>\n",
       "      <td>...</td>\n",
       "      <td>...</td>\n",
       "      <td>...</td>\n",
       "      <td>...</td>\n",
       "      <td>...</td>\n",
       "    </tr>\n",
       "    <tr>\n",
       "      <th>393</th>\n",
       "      <td>1029.40</td>\n",
       "      <td>1055.85</td>\n",
       "      <td>1825.05</td>\n",
       "      <td>1.403165</td>\n",
       "      <td>-76.024538</td>\n",
       "      <td>68.99</td>\n",
       "    </tr>\n",
       "    <tr>\n",
       "      <th>391</th>\n",
       "      <td>1011.25</td>\n",
       "      <td>994.65</td>\n",
       "      <td>-1145.40</td>\n",
       "      <td>1.429067</td>\n",
       "      <td>7.319056</td>\n",
       "      <td>74.52</td>\n",
       "    </tr>\n",
       "    <tr>\n",
       "      <th>390</th>\n",
       "      <td>957.55</td>\n",
       "      <td>985.75</td>\n",
       "      <td>1833.00</td>\n",
       "      <td>1.602561</td>\n",
       "      <td>-12.233007</td>\n",
       "      <td>59.84</td>\n",
       "    </tr>\n",
       "    <tr>\n",
       "      <th>392</th>\n",
       "      <td>931.55</td>\n",
       "      <td>941.10</td>\n",
       "      <td>401.10</td>\n",
       "      <td>2.542629</td>\n",
       "      <td>-56.357667</td>\n",
       "      <td>58.06</td>\n",
       "    </tr>\n",
       "    <tr>\n",
       "      <th>523</th>\n",
       "      <td>2105.10</td>\n",
       "      <td>2144.10</td>\n",
       "      <td>663.00</td>\n",
       "      <td>2.719355</td>\n",
       "      <td>22.104526</td>\n",
       "      <td>76.27</td>\n",
       "    </tr>\n",
       "  </tbody>\n",
       "</table>\n",
       "<p>359 rows × 6 columns</p>\n",
       "</div>"
      ],
      "text/plain": [
       "     entry price  exit price      p&l  atr_perc         roc    rsi\n",
       "67        716.35      718.30  1803.75  0.150859  -31.080220  60.21\n",
       "123       915.55      913.85 -1140.70  0.162815  250.086714  65.60\n",
       "61        713.05      711.60 -1132.45  0.179611  -40.979527  73.79\n",
       "4         541.85      540.75 -1122.00  0.180979  -10.250543  71.59\n",
       "66        716.80      715.15 -1153.35  0.199595  -88.295404  63.56\n",
       "..           ...         ...      ...       ...         ...    ...\n",
       "393      1029.40     1055.85  1825.05  1.403165  -76.024538  68.99\n",
       "391      1011.25      994.65 -1145.40  1.429067    7.319056  74.52\n",
       "390       957.55      985.75  1833.00  1.602561  -12.233007  59.84\n",
       "392       931.55      941.10   401.10  2.542629  -56.357667  58.06\n",
       "523      2105.10     2144.10   663.00  2.719355   22.104526  76.27\n",
       "\n",
       "[359 rows x 6 columns]"
      ]
     },
     "execution_count": 20,
     "metadata": {},
     "output_type": "execute_result"
    }
   ],
   "source": [
    "data_sort_rsi_atr = data_sort_rsi.iloc[210:569].sort_values(\"atr_perc\")\n",
    "data_sort_rsi_atr"
   ]
  },
  {
   "cell_type": "code",
   "execution_count": 21,
   "id": "c78a2af9",
   "metadata": {},
   "outputs": [
    {
     "name": "stdout",
     "output_type": "stream",
     "text": [
      "start_postion 40. end_position 230, max_sum = 62789.20000000004\n"
     ]
    }
   ],
   "source": [
    "largest_sublist(list(data_sort_rsi_atr['p&l']))"
   ]
  },
  {
   "cell_type": "code",
   "execution_count": 22,
   "id": "de4417e0",
   "metadata": {},
   "outputs": [
    {
     "name": "stdout",
     "output_type": "stream",
     "text": [
      "0.274223035 0.427709112\n"
     ]
    }
   ],
   "source": [
    "atr_min_revised = data_sort_rsi_atr.reset_index()[\"atr_perc\"][40]\n",
    "atr_max_revised = data_sort_rsi_atr.reset_index()[\"atr_perc\"][230]\n",
    "print(atr_min_revised, atr_max_revised)"
   ]
  },
  {
   "cell_type": "code",
   "execution_count": 23,
   "id": "b2535f0e",
   "metadata": {},
   "outputs": [
    {
     "data": {
      "text/plain": [
       "62789.200000000004"
      ]
     },
     "execution_count": 23,
     "metadata": {},
     "output_type": "execute_result"
    }
   ],
   "source": [
    "data_sort_rsi_atr.iloc[40:231]['p&l'].sum()"
   ]
  },
  {
   "cell_type": "code",
   "execution_count": 24,
   "id": "d9b75b59",
   "metadata": {},
   "outputs": [
    {
     "data": {
      "text/html": [
       "<div>\n",
       "<style scoped>\n",
       "    .dataframe tbody tr th:only-of-type {\n",
       "        vertical-align: middle;\n",
       "    }\n",
       "\n",
       "    .dataframe tbody tr th {\n",
       "        vertical-align: top;\n",
       "    }\n",
       "\n",
       "    .dataframe thead th {\n",
       "        text-align: right;\n",
       "    }\n",
       "</style>\n",
       "<table border=\"1\" class=\"dataframe\">\n",
       "  <thead>\n",
       "    <tr style=\"text-align: right;\">\n",
       "      <th></th>\n",
       "      <th>entry price</th>\n",
       "      <th>exit price</th>\n",
       "      <th>p&amp;l</th>\n",
       "      <th>atr_perc</th>\n",
       "      <th>roc</th>\n",
       "      <th>rsi</th>\n",
       "    </tr>\n",
       "  </thead>\n",
       "  <tbody>\n",
       "    <tr>\n",
       "      <th>491</th>\n",
       "      <td>2025.95</td>\n",
       "      <td>2028.80</td>\n",
       "      <td>464.55</td>\n",
       "      <td>0.302724</td>\n",
       "      <td>-81.904177</td>\n",
       "      <td>68.00</td>\n",
       "    </tr>\n",
       "    <tr>\n",
       "      <th>227</th>\n",
       "      <td>1069.25</td>\n",
       "      <td>1064.60</td>\n",
       "      <td>-1153.20</td>\n",
       "      <td>0.376440</td>\n",
       "      <td>-81.302822</td>\n",
       "      <td>66.93</td>\n",
       "    </tr>\n",
       "    <tr>\n",
       "      <th>267</th>\n",
       "      <td>1223.55</td>\n",
       "      <td>1218.65</td>\n",
       "      <td>-1146.60</td>\n",
       "      <td>0.349370</td>\n",
       "      <td>-79.129650</td>\n",
       "      <td>58.22</td>\n",
       "    </tr>\n",
       "    <tr>\n",
       "      <th>76</th>\n",
       "      <td>802.50</td>\n",
       "      <td>806.65</td>\n",
       "      <td>1826.00</td>\n",
       "      <td>0.283078</td>\n",
       "      <td>-77.729271</td>\n",
       "      <td>62.52</td>\n",
       "    </tr>\n",
       "    <tr>\n",
       "      <th>141</th>\n",
       "      <td>932.75</td>\n",
       "      <td>928.45</td>\n",
       "      <td>-1152.40</td>\n",
       "      <td>0.399163</td>\n",
       "      <td>-77.444624</td>\n",
       "      <td>60.20</td>\n",
       "    </tr>\n",
       "    <tr>\n",
       "      <th>...</th>\n",
       "      <td>...</td>\n",
       "      <td>...</td>\n",
       "      <td>...</td>\n",
       "      <td>...</td>\n",
       "      <td>...</td>\n",
       "      <td>...</td>\n",
       "    </tr>\n",
       "    <tr>\n",
       "      <th>537</th>\n",
       "      <td>1931.20</td>\n",
       "      <td>1945.65</td>\n",
       "      <td>1835.15</td>\n",
       "      <td>0.406882</td>\n",
       "      <td>1099.792088</td>\n",
       "      <td>67.52</td>\n",
       "    </tr>\n",
       "    <tr>\n",
       "      <th>41</th>\n",
       "      <td>703.65</td>\n",
       "      <td>700.45</td>\n",
       "      <td>-1142.40</td>\n",
       "      <td>0.399202</td>\n",
       "      <td>1205.851085</td>\n",
       "      <td>82.49</td>\n",
       "    </tr>\n",
       "    <tr>\n",
       "      <th>63</th>\n",
       "      <td>693.90</td>\n",
       "      <td>699.00</td>\n",
       "      <td>1825.80</td>\n",
       "      <td>0.402859</td>\n",
       "      <td>1671.842313</td>\n",
       "      <td>67.74</td>\n",
       "    </tr>\n",
       "    <tr>\n",
       "      <th>64</th>\n",
       "      <td>714.20</td>\n",
       "      <td>714.85</td>\n",
       "      <td>245.70</td>\n",
       "      <td>0.370578</td>\n",
       "      <td>2633.788326</td>\n",
       "      <td>79.97</td>\n",
       "    </tr>\n",
       "    <tr>\n",
       "      <th>167</th>\n",
       "      <td>918.30</td>\n",
       "      <td>914.85</td>\n",
       "      <td>-1148.85</td>\n",
       "      <td>0.326869</td>\n",
       "      <td>2756.339865</td>\n",
       "      <td>61.59</td>\n",
       "    </tr>\n",
       "  </tbody>\n",
       "</table>\n",
       "<p>191 rows × 6 columns</p>\n",
       "</div>"
      ],
      "text/plain": [
       "     entry price  exit price      p&l  atr_perc          roc    rsi\n",
       "491      2025.95     2028.80   464.55  0.302724   -81.904177  68.00\n",
       "227      1069.25     1064.60 -1153.20  0.376440   -81.302822  66.93\n",
       "267      1223.55     1218.65 -1146.60  0.349370   -79.129650  58.22\n",
       "76        802.50      806.65  1826.00  0.283078   -77.729271  62.52\n",
       "141       932.75      928.45 -1152.40  0.399163   -77.444624  60.20\n",
       "..           ...         ...      ...       ...          ...    ...\n",
       "537      1931.20     1945.65  1835.15  0.406882  1099.792088  67.52\n",
       "41        703.65      700.45 -1142.40  0.399202  1205.851085  82.49\n",
       "63        693.90      699.00  1825.80  0.402859  1671.842313  67.74\n",
       "64        714.20      714.85   245.70  0.370578  2633.788326  79.97\n",
       "167       918.30      914.85 -1148.85  0.326869  2756.339865  61.59\n",
       "\n",
       "[191 rows x 6 columns]"
      ]
     },
     "execution_count": 24,
     "metadata": {},
     "output_type": "execute_result"
    }
   ],
   "source": [
    "data_sort_rsi_atr_roc = data_sort_rsi_atr.iloc[40:231].sort_values(\"roc\")\n",
    "data_sort_rsi_atr_roc"
   ]
  },
  {
   "cell_type": "code",
   "execution_count": 25,
   "id": "c429da86",
   "metadata": {},
   "outputs": [
    {
     "name": "stdout",
     "output_type": "stream",
     "text": [
      "start_postion 3. end_position 189, max_sum = 65773.30000000003\n"
     ]
    }
   ],
   "source": [
    "largest_sublist(list(data_sort_rsi_atr_roc['p&l']))"
   ]
  },
  {
   "cell_type": "code",
   "execution_count": 26,
   "id": "f6948051",
   "metadata": {},
   "outputs": [
    {
     "name": "stdout",
     "output_type": "stream",
     "text": [
      "-77.72927145 2633.788326\n"
     ]
    }
   ],
   "source": [
    "roc_min_revised = data_sort_rsi_atr_roc.reset_index()[\"roc\"][3]\n",
    "roc_max_revised = data_sort_rsi_atr_roc.reset_index()[\"roc\"][189]\n",
    "print(roc_min_revised, roc_max_revised)"
   ]
  },
  {
   "cell_type": "code",
   "execution_count": 27,
   "id": "70e76285",
   "metadata": {},
   "outputs": [
    {
     "data": {
      "text/plain": [
       "65773.3"
      ]
     },
     "execution_count": 27,
     "metadata": {},
     "output_type": "execute_result"
    }
   ],
   "source": [
    "data[(data['atr_perc']>=0.274223035) & (data['atr_perc']<= 0.427709112) & (data['roc']>=-77.72927145) & (data['roc']<= 2633.788326) & (data['rsi']>=58.02) & (data['rsi']<= 89.72)]['p&l'].sum()"
   ]
  },
  {
   "cell_type": "code",
   "execution_count": 28,
   "id": "aa9b40f2",
   "metadata": {},
   "outputs": [
    {
     "data": {
      "text/plain": [
       "1628664215.7219253"
      ]
     },
     "execution_count": 28,
     "metadata": {},
     "output_type": "execute_result"
    }
   ],
   "source": [
    "t2 = time.time()\n",
    "t2"
   ]
  },
  {
   "cell_type": "code",
   "execution_count": 29,
   "id": "92f7d681",
   "metadata": {},
   "outputs": [
    {
     "data": {
      "text/plain": [
       "2.0352439880371094"
      ]
     },
     "execution_count": 29,
     "metadata": {},
     "output_type": "execute_result"
    }
   ],
   "source": [
    "time_taken = t2 -t1\n",
    "time_taken"
   ]
  },
  {
   "cell_type": "code",
   "execution_count": null,
   "id": "10960389",
   "metadata": {},
   "outputs": [],
   "source": []
  }
 ],
 "metadata": {
  "kernelspec": {
   "display_name": "Python 3",
   "language": "python",
   "name": "python3"
  },
  "language_info": {
   "codemirror_mode": {
    "name": "ipython",
    "version": 3
   },
   "file_extension": ".py",
   "mimetype": "text/x-python",
   "name": "python",
   "nbconvert_exporter": "python",
   "pygments_lexer": "ipython3",
   "version": "3.8.8"
  }
 },
 "nbformat": 4,
 "nbformat_minor": 5
}
